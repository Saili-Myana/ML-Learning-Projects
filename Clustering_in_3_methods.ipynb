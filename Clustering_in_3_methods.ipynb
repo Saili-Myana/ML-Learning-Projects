{
  "nbformat": 4,
  "nbformat_minor": 0,
  "metadata": {
    "colab": {
      "name": "Clustering_in_3_methods.ipynb",
      "provenance": [],
      "collapsed_sections": [],
      "authorship_tag": "ABX9TyOGFh1rN9TfTAGy0mgonZ+U",
      "include_colab_link": true
    },
    "kernelspec": {
      "name": "python3",
      "display_name": "Python 3"
    }
  },
  "cells": [
    {
      "cell_type": "markdown",
      "metadata": {
        "id": "view-in-github",
        "colab_type": "text"
      },
      "source": [
        "<a href=\"https://colab.research.google.com/github/Saili-Myana/ML-Learning-Projects/blob/master/Clustering_in_3_methods.ipynb\" target=\"_parent\"><img src=\"https://colab.research.google.com/assets/colab-badge.svg\" alt=\"Open In Colab\"/></a>"
      ]
    },
    {
      "cell_type": "code",
      "metadata": {
        "id": "o-1f0jbHQNSR",
        "colab_type": "code",
        "colab": {}
      },
      "source": [
        "import matplotlib.pyplot as plt\n",
        "from sklearn.cluster import KMeans\n",
        "import pandas as pd"
      ],
      "execution_count": null,
      "outputs": []
    },
    {
      "cell_type": "code",
      "metadata": {
        "id": "lhJ5kb-qds5D",
        "colab_type": "code",
        "colab": {}
      },
      "source": [
        "import numpy as np"
      ],
      "execution_count": null,
      "outputs": []
    },
    {
      "cell_type": "code",
      "metadata": {
        "id": "-mLv4UgfQRtF",
        "colab_type": "code",
        "colab": {}
      },
      "source": [
        "url='https://raw.githubusercontent.com/Saili-Myana/Covid19-data/master/StudentsPerformance.csv'"
      ],
      "execution_count": null,
      "outputs": []
    },
    {
      "cell_type": "code",
      "metadata": {
        "id": "-rNEe9Y3RKyv",
        "colab_type": "code",
        "colab": {}
      },
      "source": [
        "data=pd.read_csv(url)"
      ],
      "execution_count": null,
      "outputs": []
    },
    {
      "cell_type": "code",
      "metadata": {
        "id": "_lX-DjY9R2WA",
        "colab_type": "code",
        "colab": {
          "base_uri": "https://localhost:8080/",
          "height": 423
        },
        "outputId": "12c2249b-09b2-4205-fd67-c189faecd23a"
      },
      "source": [
        "data"
      ],
      "execution_count": null,
      "outputs": [
        {
          "output_type": "execute_result",
          "data": {
            "text/html": [
              "<div>\n",
              "<style scoped>\n",
              "    .dataframe tbody tr th:only-of-type {\n",
              "        vertical-align: middle;\n",
              "    }\n",
              "\n",
              "    .dataframe tbody tr th {\n",
              "        vertical-align: top;\n",
              "    }\n",
              "\n",
              "    .dataframe thead th {\n",
              "        text-align: right;\n",
              "    }\n",
              "</style>\n",
              "<table border=\"1\" class=\"dataframe\">\n",
              "  <thead>\n",
              "    <tr style=\"text-align: right;\">\n",
              "      <th></th>\n",
              "      <th>gender</th>\n",
              "      <th>race/ethnicity</th>\n",
              "      <th>parental level of education</th>\n",
              "      <th>lunch</th>\n",
              "      <th>test preparation course</th>\n",
              "      <th>math score</th>\n",
              "      <th>reading score</th>\n",
              "      <th>writing score</th>\n",
              "    </tr>\n",
              "  </thead>\n",
              "  <tbody>\n",
              "    <tr>\n",
              "      <th>0</th>\n",
              "      <td>female</td>\n",
              "      <td>group B</td>\n",
              "      <td>bachelor's degree</td>\n",
              "      <td>standard</td>\n",
              "      <td>none</td>\n",
              "      <td>72</td>\n",
              "      <td>72</td>\n",
              "      <td>74</td>\n",
              "    </tr>\n",
              "    <tr>\n",
              "      <th>1</th>\n",
              "      <td>female</td>\n",
              "      <td>group C</td>\n",
              "      <td>some college</td>\n",
              "      <td>standard</td>\n",
              "      <td>completed</td>\n",
              "      <td>69</td>\n",
              "      <td>90</td>\n",
              "      <td>88</td>\n",
              "    </tr>\n",
              "    <tr>\n",
              "      <th>2</th>\n",
              "      <td>female</td>\n",
              "      <td>group B</td>\n",
              "      <td>master's degree</td>\n",
              "      <td>standard</td>\n",
              "      <td>none</td>\n",
              "      <td>90</td>\n",
              "      <td>95</td>\n",
              "      <td>93</td>\n",
              "    </tr>\n",
              "    <tr>\n",
              "      <th>3</th>\n",
              "      <td>male</td>\n",
              "      <td>group A</td>\n",
              "      <td>associate's degree</td>\n",
              "      <td>free/reduced</td>\n",
              "      <td>none</td>\n",
              "      <td>47</td>\n",
              "      <td>57</td>\n",
              "      <td>44</td>\n",
              "    </tr>\n",
              "    <tr>\n",
              "      <th>4</th>\n",
              "      <td>male</td>\n",
              "      <td>group C</td>\n",
              "      <td>some college</td>\n",
              "      <td>standard</td>\n",
              "      <td>none</td>\n",
              "      <td>76</td>\n",
              "      <td>78</td>\n",
              "      <td>75</td>\n",
              "    </tr>\n",
              "    <tr>\n",
              "      <th>...</th>\n",
              "      <td>...</td>\n",
              "      <td>...</td>\n",
              "      <td>...</td>\n",
              "      <td>...</td>\n",
              "      <td>...</td>\n",
              "      <td>...</td>\n",
              "      <td>...</td>\n",
              "      <td>...</td>\n",
              "    </tr>\n",
              "    <tr>\n",
              "      <th>995</th>\n",
              "      <td>female</td>\n",
              "      <td>group E</td>\n",
              "      <td>master's degree</td>\n",
              "      <td>standard</td>\n",
              "      <td>completed</td>\n",
              "      <td>88</td>\n",
              "      <td>99</td>\n",
              "      <td>95</td>\n",
              "    </tr>\n",
              "    <tr>\n",
              "      <th>996</th>\n",
              "      <td>male</td>\n",
              "      <td>group C</td>\n",
              "      <td>high school</td>\n",
              "      <td>free/reduced</td>\n",
              "      <td>none</td>\n",
              "      <td>62</td>\n",
              "      <td>55</td>\n",
              "      <td>55</td>\n",
              "    </tr>\n",
              "    <tr>\n",
              "      <th>997</th>\n",
              "      <td>female</td>\n",
              "      <td>group C</td>\n",
              "      <td>high school</td>\n",
              "      <td>free/reduced</td>\n",
              "      <td>completed</td>\n",
              "      <td>59</td>\n",
              "      <td>71</td>\n",
              "      <td>65</td>\n",
              "    </tr>\n",
              "    <tr>\n",
              "      <th>998</th>\n",
              "      <td>female</td>\n",
              "      <td>group D</td>\n",
              "      <td>some college</td>\n",
              "      <td>standard</td>\n",
              "      <td>completed</td>\n",
              "      <td>68</td>\n",
              "      <td>78</td>\n",
              "      <td>77</td>\n",
              "    </tr>\n",
              "    <tr>\n",
              "      <th>999</th>\n",
              "      <td>female</td>\n",
              "      <td>group D</td>\n",
              "      <td>some college</td>\n",
              "      <td>free/reduced</td>\n",
              "      <td>none</td>\n",
              "      <td>77</td>\n",
              "      <td>86</td>\n",
              "      <td>86</td>\n",
              "    </tr>\n",
              "  </tbody>\n",
              "</table>\n",
              "<p>1000 rows × 8 columns</p>\n",
              "</div>"
            ],
            "text/plain": [
              "     gender race/ethnicity  ... reading score writing score\n",
              "0    female        group B  ...            72            74\n",
              "1    female        group C  ...            90            88\n",
              "2    female        group B  ...            95            93\n",
              "3      male        group A  ...            57            44\n",
              "4      male        group C  ...            78            75\n",
              "..      ...            ...  ...           ...           ...\n",
              "995  female        group E  ...            99            95\n",
              "996    male        group C  ...            55            55\n",
              "997  female        group C  ...            71            65\n",
              "998  female        group D  ...            78            77\n",
              "999  female        group D  ...            86            86\n",
              "\n",
              "[1000 rows x 8 columns]"
            ]
          },
          "metadata": {
            "tags": []
          },
          "execution_count": 37
        }
      ]
    },
    {
      "cell_type": "code",
      "metadata": {
        "id": "YareLzrsSzMe",
        "colab_type": "code",
        "colab": {
          "base_uri": "https://localhost:8080/",
          "height": 92
        },
        "outputId": "c198c972-6caa-4d6c-c773-b1979751a1e5"
      },
      "source": [
        "data.columns"
      ],
      "execution_count": null,
      "outputs": [
        {
          "output_type": "execute_result",
          "data": {
            "text/plain": [
              "Index(['gender', 'race/ethnicity', 'parental level of education', 'lunch',\n",
              "       'test preparation course', 'math score', 'reading score',\n",
              "       'writing score'],\n",
              "      dtype='object')"
            ]
          },
          "metadata": {
            "tags": []
          },
          "execution_count": 38
        }
      ]
    },
    {
      "cell_type": "code",
      "metadata": {
        "id": "3Cwi0JfBS4F_",
        "colab_type": "code",
        "colab": {
          "base_uri": "https://localhost:8080/",
          "height": 36
        },
        "outputId": "07e5d17e-7421-451d-fdc4-3bde7e2bb17b"
      },
      "source": [
        "data['gender'].unique()"
      ],
      "execution_count": null,
      "outputs": [
        {
          "output_type": "execute_result",
          "data": {
            "text/plain": [
              "array(['female', 'male'], dtype=object)"
            ]
          },
          "metadata": {
            "tags": []
          },
          "execution_count": 39
        }
      ]
    },
    {
      "cell_type": "code",
      "metadata": {
        "id": "yxQMy2IcTAaV",
        "colab_type": "code",
        "colab": {
          "base_uri": "https://localhost:8080/",
          "height": 224
        },
        "outputId": "62848c36-7dcc-49b0-83b1-98fa6a6b6efa"
      },
      "source": [
        "temp1=data[data.columns[0]].unique()[0]\n",
        "temp2=data[data.columns[0]].unique()[1]\n",
        "\n",
        "for l in range(len(data[data.columns[0]])):\n",
        "  if data[data.columns[0]][l]==temp1:\n",
        "    data[data.columns[0]][l]=1 #female\n",
        "  elif data[data.columns[0]][l]==temp2:\n",
        "    data[data.columns[0]][l]=0 #male\n"
      ],
      "execution_count": null,
      "outputs": [
        {
          "output_type": "stream",
          "text": [
            "/usr/local/lib/python3.6/dist-packages/ipykernel_launcher.py:6: SettingWithCopyWarning: \n",
            "A value is trying to be set on a copy of a slice from a DataFrame\n",
            "\n",
            "See the caveats in the documentation: https://pandas.pydata.org/pandas-docs/stable/user_guide/indexing.html#returning-a-view-versus-a-copy\n",
            "  \n",
            "/usr/local/lib/python3.6/dist-packages/ipykernel_launcher.py:8: SettingWithCopyWarning: \n",
            "A value is trying to be set on a copy of a slice from a DataFrame\n",
            "\n",
            "See the caveats in the documentation: https://pandas.pydata.org/pandas-docs/stable/user_guide/indexing.html#returning-a-view-versus-a-copy\n",
            "  \n"
          ],
          "name": "stderr"
        }
      ]
    },
    {
      "cell_type": "code",
      "metadata": {
        "id": "-mDt32qXWy7w",
        "colab_type": "code",
        "colab": {
          "base_uri": "https://localhost:8080/",
          "height": 54
        },
        "outputId": "19b739cf-718a-4536-9c9c-5195d9e3f278"
      },
      "source": [
        "data[data.columns[1]].unique()"
      ],
      "execution_count": null,
      "outputs": [
        {
          "output_type": "execute_result",
          "data": {
            "text/plain": [
              "array(['group B', 'group C', 'group A', 'group D', 'group E'],\n",
              "      dtype=object)"
            ]
          },
          "metadata": {
            "tags": []
          },
          "execution_count": 42
        }
      ]
    },
    {
      "cell_type": "code",
      "metadata": {
        "id": "3At7pphIW1E7",
        "colab_type": "code",
        "colab": {
          "base_uri": "https://localhost:8080/",
          "height": 486
        },
        "outputId": "1eaf3762-dd56-449a-8ebe-3c4cc729fbde"
      },
      "source": [
        "temp1=data[data.columns[1]].unique()[0]\n",
        "temp2=data[data.columns[1]].unique()[1]\n",
        "temp3=data[data.columns[1]].unique()[2]\n",
        "temp4=data[data.columns[1]].unique()[3]\n",
        "temp5=data[data.columns[1]].unique()[4]\n",
        "\n",
        "for l in range(len(data[data.columns[1]])):\n",
        "  if data[data.columns[1]][l]==temp1:\n",
        "    data[data.columns[1]][l]=0 #group B\n",
        "  elif data[data.columns[1]][l]==temp2:\n",
        "    data[data.columns[1]][l]=1 #group C\n",
        "  elif data[data.columns[1]][l]==temp3:\n",
        "    data[data.columns[1]][l]=2 #group A\n",
        "  elif data[data.columns[1]][l]==temp4:\n",
        "    data[data.columns[1]][l]=3 #group D\n",
        "  elif data[data.columns[1]][l]==temp5:\n",
        "    data[data.columns[1]][l]=4 #group E\n"
      ],
      "execution_count": null,
      "outputs": [
        {
          "output_type": "stream",
          "text": [
            "/usr/local/lib/python3.6/dist-packages/ipykernel_launcher.py:9: SettingWithCopyWarning: \n",
            "A value is trying to be set on a copy of a slice from a DataFrame\n",
            "\n",
            "See the caveats in the documentation: https://pandas.pydata.org/pandas-docs/stable/user_guide/indexing.html#returning-a-view-versus-a-copy\n",
            "  if __name__ == '__main__':\n",
            "/usr/local/lib/python3.6/dist-packages/ipykernel_launcher.py:11: SettingWithCopyWarning: \n",
            "A value is trying to be set on a copy of a slice from a DataFrame\n",
            "\n",
            "See the caveats in the documentation: https://pandas.pydata.org/pandas-docs/stable/user_guide/indexing.html#returning-a-view-versus-a-copy\n",
            "  # This is added back by InteractiveShellApp.init_path()\n",
            "/usr/local/lib/python3.6/dist-packages/ipykernel_launcher.py:13: SettingWithCopyWarning: \n",
            "A value is trying to be set on a copy of a slice from a DataFrame\n",
            "\n",
            "See the caveats in the documentation: https://pandas.pydata.org/pandas-docs/stable/user_guide/indexing.html#returning-a-view-versus-a-copy\n",
            "  del sys.path[0]\n",
            "/usr/local/lib/python3.6/dist-packages/ipykernel_launcher.py:15: SettingWithCopyWarning: \n",
            "A value is trying to be set on a copy of a slice from a DataFrame\n",
            "\n",
            "See the caveats in the documentation: https://pandas.pydata.org/pandas-docs/stable/user_guide/indexing.html#returning-a-view-versus-a-copy\n",
            "  from ipykernel import kernelapp as app\n",
            "/usr/local/lib/python3.6/dist-packages/ipykernel_launcher.py:17: SettingWithCopyWarning: \n",
            "A value is trying to be set on a copy of a slice from a DataFrame\n",
            "\n",
            "See the caveats in the documentation: https://pandas.pydata.org/pandas-docs/stable/user_guide/indexing.html#returning-a-view-versus-a-copy\n"
          ],
          "name": "stderr"
        }
      ]
    },
    {
      "cell_type": "code",
      "metadata": {
        "id": "M5K69zWmTPr-",
        "colab_type": "code",
        "colab": {
          "base_uri": "https://localhost:8080/",
          "height": 73
        },
        "outputId": "d925fc76-8a26-44c4-be19-df7e62239c03"
      },
      "source": [
        "data[data.columns[2]].unique()"
      ],
      "execution_count": null,
      "outputs": [
        {
          "output_type": "execute_result",
          "data": {
            "text/plain": [
              "array([\"bachelor's degree\", 'some college', \"master's degree\",\n",
              "       \"associate's degree\", 'high school', 'some high school'],\n",
              "      dtype=object)"
            ]
          },
          "metadata": {
            "tags": []
          },
          "execution_count": 46
        }
      ]
    },
    {
      "cell_type": "code",
      "metadata": {
        "id": "taiLe5iNTYri",
        "colab_type": "code",
        "colab": {
          "base_uri": "https://localhost:8080/",
          "height": 561
        },
        "outputId": "1ae45a76-e137-4fb4-f332-5bb0b1b8dea0"
      },
      "source": [
        "temp1=data[data.columns[2]].unique()[0]\n",
        "temp2=data[data.columns[2]].unique()[1]\n",
        "temp3=data[data.columns[2]].unique()[2]\n",
        "temp4=data[data.columns[2]].unique()[3]\n",
        "temp5=data[data.columns[2]].unique()[4]\n",
        "temp6=data[data.columns[2]].unique()[5]\n",
        "\n",
        "for l in range(len(data[data.columns[2]])):\n",
        "  if data[data.columns[2]][l]==temp1:\n",
        "    data[data.columns[2]][l]=0 #bachelo's degree\n",
        "  elif data[data.columns[2]][l]==temp2:\n",
        "    data[data.columns[2]][l]=1 #some college\n",
        "  elif data[data.columns[2]][l]==temp3:\n",
        "    data[data.columns[2]][l]=2 #master's degree\n",
        "  elif data[data.columns[2]][l]==temp4:\n",
        "    data[data.columns[2]][l]=3 #associate's degree\n",
        "  elif data[data.columns[2]][l]==temp5:\n",
        "    data[data.columns[2]][l]=4 #high school\n",
        "  elif data[data.columns[2]][l]==temp6:\n",
        "    data[data.columns[2]][l]=5 #some high school"
      ],
      "execution_count": null,
      "outputs": [
        {
          "output_type": "stream",
          "text": [
            "/usr/local/lib/python3.6/dist-packages/ipykernel_launcher.py:10: SettingWithCopyWarning: \n",
            "A value is trying to be set on a copy of a slice from a DataFrame\n",
            "\n",
            "See the caveats in the documentation: https://pandas.pydata.org/pandas-docs/stable/user_guide/indexing.html#returning-a-view-versus-a-copy\n",
            "  # Remove the CWD from sys.path while we load stuff.\n",
            "/usr/local/lib/python3.6/dist-packages/ipykernel_launcher.py:12: SettingWithCopyWarning: \n",
            "A value is trying to be set on a copy of a slice from a DataFrame\n",
            "\n",
            "See the caveats in the documentation: https://pandas.pydata.org/pandas-docs/stable/user_guide/indexing.html#returning-a-view-versus-a-copy\n",
            "  if sys.path[0] == '':\n",
            "/usr/local/lib/python3.6/dist-packages/ipykernel_launcher.py:14: SettingWithCopyWarning: \n",
            "A value is trying to be set on a copy of a slice from a DataFrame\n",
            "\n",
            "See the caveats in the documentation: https://pandas.pydata.org/pandas-docs/stable/user_guide/indexing.html#returning-a-view-versus-a-copy\n",
            "  \n",
            "/usr/local/lib/python3.6/dist-packages/ipykernel_launcher.py:16: SettingWithCopyWarning: \n",
            "A value is trying to be set on a copy of a slice from a DataFrame\n",
            "\n",
            "See the caveats in the documentation: https://pandas.pydata.org/pandas-docs/stable/user_guide/indexing.html#returning-a-view-versus-a-copy\n",
            "  app.launch_new_instance()\n",
            "/usr/local/lib/python3.6/dist-packages/ipykernel_launcher.py:18: SettingWithCopyWarning: \n",
            "A value is trying to be set on a copy of a slice from a DataFrame\n",
            "\n",
            "See the caveats in the documentation: https://pandas.pydata.org/pandas-docs/stable/user_guide/indexing.html#returning-a-view-versus-a-copy\n",
            "/usr/local/lib/python3.6/dist-packages/ipykernel_launcher.py:20: SettingWithCopyWarning: \n",
            "A value is trying to be set on a copy of a slice from a DataFrame\n",
            "\n",
            "See the caveats in the documentation: https://pandas.pydata.org/pandas-docs/stable/user_guide/indexing.html#returning-a-view-versus-a-copy\n"
          ],
          "name": "stderr"
        }
      ]
    },
    {
      "cell_type": "code",
      "metadata": {
        "id": "r5_eBPD-VJ41",
        "colab_type": "code",
        "colab": {
          "base_uri": "https://localhost:8080/",
          "height": 36
        },
        "outputId": "34640908-4974-4349-fe7f-f6557ac1d3d6"
      },
      "source": [
        "data[data.columns[3]].unique()"
      ],
      "execution_count": null,
      "outputs": [
        {
          "output_type": "execute_result",
          "data": {
            "text/plain": [
              "array(['standard', 'free/reduced'], dtype=object)"
            ]
          },
          "metadata": {
            "tags": []
          },
          "execution_count": 49
        }
      ]
    },
    {
      "cell_type": "code",
      "metadata": {
        "id": "jk0UDsDqTZWG",
        "colab_type": "code",
        "colab": {
          "base_uri": "https://localhost:8080/",
          "height": 224
        },
        "outputId": "8cc288f5-ab27-4d80-dec8-3646b76f46b6"
      },
      "source": [
        "temp1=data[data.columns[3]].unique()[0]\n",
        "temp2=data[data.columns[3]].unique()[1]\n",
        "\n",
        "for l in range(len(data[data.columns[3]])):\n",
        "  if data[data.columns[3]][l]==temp1:\n",
        "    data[data.columns[3]][l]=1 #standard\n",
        "  elif data[data.columns[3]][l]==temp2:\n",
        "    data[data.columns[3]][l]=0 #free/reduced\n"
      ],
      "execution_count": null,
      "outputs": [
        {
          "output_type": "stream",
          "text": [
            "/usr/local/lib/python3.6/dist-packages/ipykernel_launcher.py:6: SettingWithCopyWarning: \n",
            "A value is trying to be set on a copy of a slice from a DataFrame\n",
            "\n",
            "See the caveats in the documentation: https://pandas.pydata.org/pandas-docs/stable/user_guide/indexing.html#returning-a-view-versus-a-copy\n",
            "  \n",
            "/usr/local/lib/python3.6/dist-packages/ipykernel_launcher.py:8: SettingWithCopyWarning: \n",
            "A value is trying to be set on a copy of a slice from a DataFrame\n",
            "\n",
            "See the caveats in the documentation: https://pandas.pydata.org/pandas-docs/stable/user_guide/indexing.html#returning-a-view-versus-a-copy\n",
            "  \n"
          ],
          "name": "stderr"
        }
      ]
    },
    {
      "cell_type": "code",
      "metadata": {
        "id": "bYYNJMoaTZa3",
        "colab_type": "code",
        "colab": {
          "base_uri": "https://localhost:8080/",
          "height": 36
        },
        "outputId": "a162eb4c-a6b6-4812-9194-abe25a56ab8a"
      },
      "source": [
        "data[data.columns[4]].unique()"
      ],
      "execution_count": null,
      "outputs": [
        {
          "output_type": "execute_result",
          "data": {
            "text/plain": [
              "array(['none', 'completed'], dtype=object)"
            ]
          },
          "metadata": {
            "tags": []
          },
          "execution_count": 53
        }
      ]
    },
    {
      "cell_type": "code",
      "metadata": {
        "id": "lmNXEJfXTZfE",
        "colab_type": "code",
        "colab": {
          "base_uri": "https://localhost:8080/",
          "height": 224
        },
        "outputId": "5fd793b9-922c-4a91-8f00-1ed08ea6e7f1"
      },
      "source": [
        "temp1=data[data.columns[4]].unique()[0]\n",
        "temp2=data[data.columns[4]].unique()[1]\n",
        "\n",
        "for l in range(len(data[data.columns[4]])):\n",
        "  if data[data.columns[4]][l]==temp1:\n",
        "    data[data.columns[4]][l]=0 #none\n",
        "  elif data[data.columns[4]][l]==temp2:\n",
        "    data[data.columns[4]][l]=1 #completed\n"
      ],
      "execution_count": null,
      "outputs": [
        {
          "output_type": "stream",
          "text": [
            "/usr/local/lib/python3.6/dist-packages/ipykernel_launcher.py:6: SettingWithCopyWarning: \n",
            "A value is trying to be set on a copy of a slice from a DataFrame\n",
            "\n",
            "See the caveats in the documentation: https://pandas.pydata.org/pandas-docs/stable/user_guide/indexing.html#returning-a-view-versus-a-copy\n",
            "  \n",
            "/usr/local/lib/python3.6/dist-packages/ipykernel_launcher.py:8: SettingWithCopyWarning: \n",
            "A value is trying to be set on a copy of a slice from a DataFrame\n",
            "\n",
            "See the caveats in the documentation: https://pandas.pydata.org/pandas-docs/stable/user_guide/indexing.html#returning-a-view-versus-a-copy\n",
            "  \n"
          ],
          "name": "stderr"
        }
      ]
    },
    {
      "cell_type": "code",
      "metadata": {
        "id": "uc2P5LonTZkg",
        "colab_type": "code",
        "colab": {
          "base_uri": "https://localhost:8080/",
          "height": 423
        },
        "outputId": "f3a85a93-f99d-476f-cc65-44453a9e4507"
      },
      "source": [
        "data"
      ],
      "execution_count": null,
      "outputs": [
        {
          "output_type": "execute_result",
          "data": {
            "text/html": [
              "<div>\n",
              "<style scoped>\n",
              "    .dataframe tbody tr th:only-of-type {\n",
              "        vertical-align: middle;\n",
              "    }\n",
              "\n",
              "    .dataframe tbody tr th {\n",
              "        vertical-align: top;\n",
              "    }\n",
              "\n",
              "    .dataframe thead th {\n",
              "        text-align: right;\n",
              "    }\n",
              "</style>\n",
              "<table border=\"1\" class=\"dataframe\">\n",
              "  <thead>\n",
              "    <tr style=\"text-align: right;\">\n",
              "      <th></th>\n",
              "      <th>gender</th>\n",
              "      <th>race/ethnicity</th>\n",
              "      <th>parental level of education</th>\n",
              "      <th>lunch</th>\n",
              "      <th>test preparation course</th>\n",
              "      <th>math score</th>\n",
              "      <th>reading score</th>\n",
              "      <th>writing score</th>\n",
              "    </tr>\n",
              "  </thead>\n",
              "  <tbody>\n",
              "    <tr>\n",
              "      <th>0</th>\n",
              "      <td>1</td>\n",
              "      <td>0</td>\n",
              "      <td>0</td>\n",
              "      <td>1</td>\n",
              "      <td>0</td>\n",
              "      <td>72</td>\n",
              "      <td>72</td>\n",
              "      <td>74</td>\n",
              "    </tr>\n",
              "    <tr>\n",
              "      <th>1</th>\n",
              "      <td>1</td>\n",
              "      <td>1</td>\n",
              "      <td>1</td>\n",
              "      <td>1</td>\n",
              "      <td>1</td>\n",
              "      <td>69</td>\n",
              "      <td>90</td>\n",
              "      <td>88</td>\n",
              "    </tr>\n",
              "    <tr>\n",
              "      <th>2</th>\n",
              "      <td>1</td>\n",
              "      <td>0</td>\n",
              "      <td>2</td>\n",
              "      <td>1</td>\n",
              "      <td>0</td>\n",
              "      <td>90</td>\n",
              "      <td>95</td>\n",
              "      <td>93</td>\n",
              "    </tr>\n",
              "    <tr>\n",
              "      <th>3</th>\n",
              "      <td>0</td>\n",
              "      <td>2</td>\n",
              "      <td>3</td>\n",
              "      <td>0</td>\n",
              "      <td>0</td>\n",
              "      <td>47</td>\n",
              "      <td>57</td>\n",
              "      <td>44</td>\n",
              "    </tr>\n",
              "    <tr>\n",
              "      <th>4</th>\n",
              "      <td>0</td>\n",
              "      <td>1</td>\n",
              "      <td>1</td>\n",
              "      <td>1</td>\n",
              "      <td>0</td>\n",
              "      <td>76</td>\n",
              "      <td>78</td>\n",
              "      <td>75</td>\n",
              "    </tr>\n",
              "    <tr>\n",
              "      <th>...</th>\n",
              "      <td>...</td>\n",
              "      <td>...</td>\n",
              "      <td>...</td>\n",
              "      <td>...</td>\n",
              "      <td>...</td>\n",
              "      <td>...</td>\n",
              "      <td>...</td>\n",
              "      <td>...</td>\n",
              "    </tr>\n",
              "    <tr>\n",
              "      <th>995</th>\n",
              "      <td>1</td>\n",
              "      <td>4</td>\n",
              "      <td>2</td>\n",
              "      <td>1</td>\n",
              "      <td>1</td>\n",
              "      <td>88</td>\n",
              "      <td>99</td>\n",
              "      <td>95</td>\n",
              "    </tr>\n",
              "    <tr>\n",
              "      <th>996</th>\n",
              "      <td>0</td>\n",
              "      <td>1</td>\n",
              "      <td>4</td>\n",
              "      <td>0</td>\n",
              "      <td>0</td>\n",
              "      <td>62</td>\n",
              "      <td>55</td>\n",
              "      <td>55</td>\n",
              "    </tr>\n",
              "    <tr>\n",
              "      <th>997</th>\n",
              "      <td>1</td>\n",
              "      <td>1</td>\n",
              "      <td>4</td>\n",
              "      <td>0</td>\n",
              "      <td>1</td>\n",
              "      <td>59</td>\n",
              "      <td>71</td>\n",
              "      <td>65</td>\n",
              "    </tr>\n",
              "    <tr>\n",
              "      <th>998</th>\n",
              "      <td>1</td>\n",
              "      <td>3</td>\n",
              "      <td>1</td>\n",
              "      <td>1</td>\n",
              "      <td>1</td>\n",
              "      <td>68</td>\n",
              "      <td>78</td>\n",
              "      <td>77</td>\n",
              "    </tr>\n",
              "    <tr>\n",
              "      <th>999</th>\n",
              "      <td>1</td>\n",
              "      <td>3</td>\n",
              "      <td>1</td>\n",
              "      <td>0</td>\n",
              "      <td>0</td>\n",
              "      <td>77</td>\n",
              "      <td>86</td>\n",
              "      <td>86</td>\n",
              "    </tr>\n",
              "  </tbody>\n",
              "</table>\n",
              "<p>1000 rows × 8 columns</p>\n",
              "</div>"
            ],
            "text/plain": [
              "    gender race/ethnicity  ... reading score writing score\n",
              "0        1              0  ...            72            74\n",
              "1        1              1  ...            90            88\n",
              "2        1              0  ...            95            93\n",
              "3        0              2  ...            57            44\n",
              "4        0              1  ...            78            75\n",
              "..     ...            ...  ...           ...           ...\n",
              "995      1              4  ...            99            95\n",
              "996      0              1  ...            55            55\n",
              "997      1              1  ...            71            65\n",
              "998      1              3  ...            78            77\n",
              "999      1              3  ...            86            86\n",
              "\n",
              "[1000 rows x 8 columns]"
            ]
          },
          "metadata": {
            "tags": []
          },
          "execution_count": 55
        }
      ]
    },
    {
      "cell_type": "code",
      "metadata": {
        "id": "4sKI3qmlSDOE",
        "colab_type": "code",
        "colab": {}
      },
      "source": [
        "sse = []\n",
        "k_rng = range(1,10)\n",
        "for k in k_rng:\n",
        "    km = KMeans(n_clusters=k)\n",
        "    km.fit(data)\n",
        "    sse.append(km.inertia_)"
      ],
      "execution_count": null,
      "outputs": []
    },
    {
      "cell_type": "code",
      "metadata": {
        "id": "TlpNzyx5SzRa",
        "colab_type": "code",
        "colab": {
          "base_uri": "https://localhost:8080/",
          "height": 299
        },
        "outputId": "627dc2af-2157-4b37-a73b-c950bbc49e3a"
      },
      "source": [
        "plt.xlabel('K')\n",
        "plt.ylabel('Sum of squared error')\n",
        "plt.plot(k_rng,sse)"
      ],
      "execution_count": null,
      "outputs": [
        {
          "output_type": "execute_result",
          "data": {
            "text/plain": [
              "[<matplotlib.lines.Line2D at 0x7f78695f6668>]"
            ]
          },
          "metadata": {
            "tags": []
          },
          "execution_count": 66
        },
        {
          "output_type": "display_data",
          "data": {
            "image/png": "[encoded data removed]",
            "text/plain": [
              "<Figure size 432x288 with 1 Axes>"
            ]
          },
          "metadata": {
            "tags": [],
            "needs_background": "light"
          }
        }
      ]
    },
    {
      "cell_type": "code",
      "metadata": {
        "id": "0xu83Gx5SSOE",
        "colab_type": "code",
        "colab": {
          "base_uri": "https://localhost:8080/",
          "height": 877
        },
        "outputId": "ce3e9644-73d3-49d9-ccfa-b72a8e9f2dbe"
      },
      "source": [
        "km=KMeans(n_clusters=4)\n",
        "km.fit(data)\n",
        "km.labels_"
      ],
      "execution_count": null,
      "outputs": [
        {
          "output_type": "execute_result",
          "data": {
            "text/plain": [
              "array([2, 0, 0, 1, 2, 2, 0, 1, 3, 1, 3, 1, 2, 2, 3, 2, 0, 1, 1, 3, 3, 2,\n",
              "       1, 2, 2, 2, 3, 2, 2, 2, 2, 3, 3, 1, 0, 0, 2, 3, 0, 3, 3, 3, 3, 3,\n",
              "       3, 3, 3, 2, 2, 0, 1, 2, 1, 0, 0, 1, 0, 1, 3, 1, 2, 1, 3, 2, 3, 3,\n",
              "       1, 2, 3, 3, 3, 3, 1, 3, 1, 1, 1, 2, 2, 3, 1, 1, 1, 3, 1, 2, 0, 2,\n",
              "       3, 0, 2, 1, 2, 1, 0, 0, 3, 2, 3, 3, 2, 2, 0, 1, 0, 3, 0, 3, 3, 2,\n",
              "       0, 3, 1, 3, 0, 2, 0, 2, 3, 3, 0, 0, 0, 3, 2, 0, 2, 2, 2, 1, 0, 1,\n",
              "       2, 2, 2, 3, 1, 3, 3, 3, 2, 3, 1, 1, 2, 1, 0, 2, 2, 0, 3, 2, 3, 1,\n",
              "       3, 0, 2, 3, 2, 3, 2, 0, 1, 1, 0, 0, 1, 2, 2, 2, 2, 0, 0, 3, 1, 0,\n",
              "       1, 2, 3, 0, 2, 3, 1, 2, 1, 3, 2, 3, 1, 0, 3, 2, 3, 3, 2, 3, 3, 3,\n",
              "       1, 2, 2, 2, 2, 3, 1, 2, 2, 2, 2, 3, 2, 1, 3, 3, 0, 0, 0, 1, 2, 3,\n",
              "       3, 0, 3, 0, 3, 1, 2, 3, 2, 0, 2, 1, 2, 0, 0, 2, 3, 3, 1, 0, 2, 0,\n",
              "       3, 1, 2, 2, 2, 3, 3, 3, 1, 2, 3, 2, 1, 2, 2, 2, 2, 2, 2, 2, 1, 0,\n",
              "       2, 1, 2, 2, 0, 2, 3, 1, 1, 2, 0, 2, 0, 3, 2, 3, 1, 1, 2, 2, 1, 0,\n",
              "       0, 2, 2, 2, 2, 2, 3, 2, 2, 3, 1, 2, 1, 0, 2, 3, 2, 2, 2, 2, 0, 1,\n",
              "       3, 1, 2, 3, 3, 2, 3, 2, 0, 2, 2, 3, 2, 2, 2, 1, 1, 0, 3, 1, 2, 1,\n",
              "       3, 1, 3, 0, 0, 3, 2, 1, 1, 1, 3, 3, 2, 2, 2, 2, 3, 0, 2, 2, 3, 3,\n",
              "       2, 3, 3, 2, 3, 3, 3, 0, 3, 0, 3, 1, 3, 3, 3, 3, 3, 0, 2, 3, 2, 0,\n",
              "       2, 1, 0, 0, 2, 3, 0, 0, 2, 1, 1, 2, 2, 2, 3, 2, 3, 2, 2, 3, 2, 1,\n",
              "       3, 0, 3, 3, 3, 1, 3, 0, 3, 2, 3, 2, 3, 0, 2, 0, 3, 3, 2, 2, 2, 2,\n",
              "       3, 3, 0, 3, 3, 2, 1, 3, 0, 2, 3, 3, 3, 2, 3, 1, 2, 1, 2, 2, 3, 0,\n",
              "       2, 2, 2, 2, 2, 2, 3, 0, 1, 2, 2, 0, 2, 3, 3, 1, 0, 1, 0, 2, 3, 1,\n",
              "       2, 0, 3, 0, 1, 2, 0, 0, 0, 2, 2, 3, 0, 2, 2, 2, 3, 2, 2, 3, 3, 1,\n",
              "       1, 2, 3, 2, 3, 0, 2, 3, 0, 0, 3, 3, 1, 2, 2, 2, 2, 0, 3, 0, 1, 0,\n",
              "       2, 3, 2, 0, 2, 1, 3, 3, 0, 0, 0, 2, 2, 2, 3, 0, 3, 3, 1, 3, 3, 1,\n",
              "       1, 2, 2, 1, 3, 0, 2, 2, 3, 3, 2, 0, 2, 0, 2, 0, 3, 0, 0, 2, 3, 2,\n",
              "       2, 0, 1, 2, 1, 1, 2, 3, 3, 3, 2, 2, 0, 2, 1, 1, 0, 2, 1, 2, 2, 0,\n",
              "       3, 3, 2, 1, 3, 0, 3, 3, 0, 2, 2, 2, 2, 2, 2, 3, 3, 3, 3, 3, 3, 2,\n",
              "       0, 2, 1, 1, 2, 2, 3, 1, 2, 3, 0, 2, 0, 1, 3, 3, 3, 3, 0, 2, 0, 3,\n",
              "       1, 0, 0, 2, 1, 3, 3, 0, 3, 0, 2, 1, 1, 1, 2, 2, 2, 0, 0, 2, 2, 0,\n",
              "       2, 2, 1, 0, 2, 2, 3, 2, 3, 3, 1, 2, 3, 2, 0, 2, 2, 3, 2, 3, 3, 0,\n",
              "       2, 2, 3, 2, 2, 3, 2, 0, 2, 2, 2, 1, 2, 2, 2, 3, 2, 2, 2, 3, 2, 3,\n",
              "       3, 1, 3, 0, 2, 2, 1, 0, 1, 2, 2, 2, 3, 0, 0, 2, 2, 3, 0, 3, 0, 3,\n",
              "       3, 3, 1, 3, 0, 3, 0, 0, 0, 0, 2, 0, 2, 0, 2, 0, 2, 3, 0, 1, 1, 2,\n",
              "       2, 3, 0, 1, 2, 1, 0, 1, 3, 3, 0, 3, 2, 3, 2, 1, 0, 2, 1, 2, 2, 3,\n",
              "       3, 0, 2, 2, 2, 0, 3, 0, 3, 2, 3, 2, 3, 3, 0, 3, 3, 2, 2, 3, 2, 3,\n",
              "       1, 2, 3, 2, 3, 3, 2, 1, 2, 0, 3, 0, 0, 3, 0, 1, 2, 1, 3, 3, 3, 3,\n",
              "       2, 0, 1, 3, 2, 2, 3, 3, 2, 2, 0, 0, 2, 2, 2, 1, 2, 3, 1, 1, 3, 0,\n",
              "       2, 0, 3, 2, 3, 0, 0, 0, 1, 2, 1, 3, 3, 2, 2, 3, 3, 0, 3, 0, 1, 3,\n",
              "       3, 2, 3, 2, 1, 3, 1, 2, 3, 0, 0, 3, 3, 2, 2, 3, 0, 2, 3, 0, 2, 2,\n",
              "       1, 2, 3, 0, 1, 2, 0, 0, 3, 1, 2, 1, 3, 2, 0, 0, 3, 2, 0, 3, 2, 2,\n",
              "       3, 2, 2, 1, 1, 2, 0, 3, 2, 1, 0, 0, 3, 2, 3, 1, 1, 2, 3, 2, 0, 2,\n",
              "       1, 0, 2, 0, 1, 0, 2, 2, 1, 2, 3, 3, 3, 2, 0, 1, 2, 0, 2, 1, 2, 3,\n",
              "       2, 3, 3, 3, 1, 1, 2, 3, 2, 2, 0, 3, 3, 3, 0, 2, 2, 0, 2, 3, 3, 3,\n",
              "       0, 3, 1, 2, 2, 2, 2, 3, 3, 3, 0, 0, 3, 2, 3, 1, 0, 2, 3, 2, 3, 3,\n",
              "       2, 2, 0, 2, 3, 3, 3, 2, 3, 3, 1, 0, 1, 2, 0, 0, 2, 3, 1, 2, 1, 2,\n",
              "       0, 2, 2, 2, 3, 0, 3, 3, 2, 0], dtype=int32)"
            ]
          },
          "metadata": {
            "tags": []
          },
          "execution_count": 86
        }
      ]
    },
    {
      "cell_type": "code",
      "metadata": {
        "id": "TWAt_DM2hJ5T",
        "colab_type": "code",
        "colab": {
          "base_uri": "https://localhost:8080/",
          "height": 167
        },
        "outputId": "318cfbee-324c-413c-c19a-a1ae790e1584"
      },
      "source": [
        "center=km.cluster_centers_\n",
        "center"
      ],
      "execution_count": null,
      "outputs": [
        {
          "output_type": "execute_result",
          "data": {
            "text/plain": [
              "array([[ 0.59278351,  2.08762887,  2.36597938,  0.80927835,  0.54123711,\n",
              "        85.33505155, 88.49484536, 87.79896907],\n",
              "       [ 0.40251572,  1.59119497,  3.20125786,  0.43396226,  0.18238994,\n",
              "        44.50314465, 46.98113208, 44.56603774],\n",
              "       [ 0.55555556,  1.96296296,  2.59259259,  0.70655271,  0.3988604 ,\n",
              "        71.09116809, 74.72934473, 73.84045584],\n",
              "       [ 0.48648649,  1.67567568,  2.73986486,  0.5777027 ,  0.28378378,\n",
              "        59.13851351, 61.8277027 , 60.86824324]])"
            ]
          },
          "metadata": {
            "tags": []
          },
          "execution_count": 93
        }
      ]
    },
    {
      "cell_type": "code",
      "metadata": {
        "id": "eowRxneCcxCd",
        "colab_type": "code",
        "colab": {
          "base_uri": "https://localhost:8080/",
          "height": 463
        },
        "outputId": "144b8c2e-324c-4657-c662-0b1bc02798da"
      },
      "source": [
        "colormap=np.array(['red','blue','green','magenta'])\n",
        "plt.figure(figsize=(14,7))\n",
        "plt.scatter(data['math score'],data['reading score'],c=colormap[km.labels_],s=15)\n",
        "plt.scatter(center[0][5],center[0][6],color='y',s=200,marker='*')\n",
        "plt.scatter(center[1][5],center[1][6],color='y',s=200,marker='*')\n",
        "plt.scatter(center[2][5],center[2][6],color='y',s=200,marker='*')\n",
        "plt.scatter(center[3][5],center[3][6],color='y',s=200,marker='*')\n",
        "plt.title(\"kmeans\")"
      ],
      "execution_count": null,
      "outputs": [
        {
          "output_type": "execute_result",
          "data": {
            "text/plain": [
              "Text(0.5, 1.0, 'kmeans')"
            ]
          },
          "metadata": {
            "tags": []
          },
          "execution_count": 105
        },
        {
          "output_type": "display_data",
          "data": {
            "image/png": "[encoded data removed]",
            "text/plain": [
              "<Figure size 1008x504 with 1 Axes>"
            ]
          },
          "metadata": {
            "tags": [],
            "needs_background": "light"
          }
        }
      ]
    },
    {
      "cell_type": "code",
      "metadata": {
        "id": "ts_mzKVsdk2j",
        "colab_type": "code",
        "colab": {}
      },
      "source": [
        "import scipy.cluster.hierarchy as sch"
      ],
      "execution_count": null,
      "outputs": []
    },
    {
      "cell_type": "code",
      "metadata": {
        "id": "Ox5A3xIddlz-",
        "colab_type": "code",
        "colab": {
          "base_uri": "https://localhost:8080/",
          "height": 612
        },
        "outputId": "4da1cac0-152c-41f2-e660-9edee0c88277"
      },
      "source": [
        "plt.figure(figsize=(20,10))\n",
        "dendrogram = sch.dendrogram(sch.linkage(data, method  = \"ward\"))\n",
        "plt.title('Dendrogram')\n",
        "plt.xlabel('Customers')\n",
        "plt.ylabel('Euclidean distances')\n",
        "plt.show()"
      ],
      "execution_count": null,
      "outputs": [
        {
          "output_type": "display_data",
          "data": {
            "image/png": "[encoded data removed]",
            "text/plain": [
              "<Figure size 1440x720 with 1 Axes>"
            ]
          },
          "metadata": {
            "tags": [],
            "needs_background": "light"
          }
        }
      ]
    },
    {
      "cell_type": "code",
      "metadata": {
        "id": "L5x9HRx3nESF",
        "colab_type": "code",
        "colab": {}
      },
      "source": [
        "from sklearn.cluster import AgglomerativeClustering \n",
        "hc = AgglomerativeClustering(n_clusters = 4, affinity = 'euclidean', linkage ='complete')"
      ],
      "execution_count": null,
      "outputs": []
    },
    {
      "cell_type": "code",
      "metadata": {
        "id": "UWTjHA7wnKqt",
        "colab_type": "code",
        "colab": {}
      },
      "source": [
        "y_hc=hc.fit_predict(data)"
      ],
      "execution_count": null,
      "outputs": []
    },
    {
      "cell_type": "code",
      "metadata": {
        "id": "2aMOUZHJnQKI",
        "colab_type": "code",
        "colab": {
          "base_uri": "https://localhost:8080/",
          "height": 877
        },
        "outputId": "e93fd8aa-072e-4ede-c28f-5973ab2ab885"
      },
      "source": [
        "y_hc"
      ],
      "execution_count": null,
      "outputs": [
        {
          "output_type": "execute_result",
          "data": {
            "text/plain": [
              "array([3, 2, 2, 1, 2, 2, 2, 0, 3, 1, 1, 1, 2, 3, 1, 2, 2, 0, 1, 1, 3, 3,\n",
              "       1, 3, 2, 3, 1, 3, 3, 3, 2, 1, 3, 0, 2, 2, 2, 1, 2, 1, 1, 3, 1, 3,\n",
              "       1, 1, 3, 3, 3, 2, 1, 3, 1, 2, 2, 0, 2, 1, 1, 0, 3, 0, 1, 3, 1, 1,\n",
              "       1, 3, 1, 1, 3, 1, 1, 1, 1, 0, 0, 2, 3, 3, 1, 1, 1, 1, 0, 2, 2, 3,\n",
              "       3, 2, 3, 0, 3, 1, 2, 2, 1, 3, 3, 3, 3, 2, 2, 1, 2, 3, 2, 3, 3, 3,\n",
              "       2, 1, 1, 1, 2, 2, 2, 2, 1, 3, 2, 2, 2, 1, 2, 2, 3, 2, 2, 1, 2, 1,\n",
              "       2, 2, 2, 1, 1, 1, 3, 3, 3, 1, 1, 1, 2, 0, 2, 3, 2, 2, 3, 3, 3, 1,\n",
              "       3, 2, 2, 1, 2, 3, 2, 2, 1, 1, 2, 2, 1, 3, 2, 3, 3, 2, 2, 3, 1, 2,\n",
              "       1, 2, 3, 2, 3, 1, 1, 3, 1, 3, 3, 3, 1, 2, 3, 2, 1, 3, 2, 1, 3, 1,\n",
              "       1, 2, 2, 2, 3, 3, 1, 2, 3, 2, 2, 1, 2, 0, 1, 1, 2, 2, 2, 0, 3, 1,\n",
              "       3, 2, 3, 2, 3, 1, 3, 1, 3, 2, 3, 1, 2, 2, 2, 2, 3, 3, 1, 2, 3, 2,\n",
              "       1, 1, 3, 2, 2, 3, 1, 1, 1, 2, 3, 2, 1, 3, 3, 2, 2, 2, 2, 2, 1, 2,\n",
              "       3, 1, 2, 3, 2, 3, 1, 1, 1, 3, 2, 2, 2, 3, 2, 1, 1, 1, 2, 2, 0, 2,\n",
              "       2, 2, 2, 2, 3, 2, 1, 3, 2, 1, 1, 3, 1, 2, 2, 1, 2, 3, 2, 3, 2, 1,\n",
              "       3, 1, 2, 1, 3, 3, 3, 3, 2, 2, 3, 3, 2, 2, 2, 1, 0, 2, 1, 0, 2, 1,\n",
              "       1, 1, 1, 2, 2, 3, 3, 1, 0, 1, 1, 3, 3, 3, 3, 2, 1, 2, 3, 2, 3, 1,\n",
              "       2, 1, 3, 3, 1, 1, 1, 2, 1, 2, 1, 0, 1, 1, 1, 3, 1, 2, 2, 3, 3, 2,\n",
              "       3, 1, 2, 2, 2, 1, 2, 2, 2, 1, 0, 2, 3, 3, 1, 3, 1, 3, 3, 1, 2, 1,\n",
              "       1, 2, 1, 1, 1, 1, 1, 2, 1, 3, 1, 2, 1, 2, 3, 2, 1, 3, 3, 2, 3, 3,\n",
              "       1, 1, 2, 1, 1, 2, 0, 3, 2, 3, 1, 1, 1, 3, 1, 1, 3, 1, 3, 3, 1, 2,\n",
              "       2, 2, 3, 2, 2, 2, 1, 2, 1, 3, 2, 2, 2, 1, 1, 1, 2, 1, 2, 3, 1, 1,\n",
              "       3, 2, 1, 2, 0, 3, 2, 2, 2, 3, 2, 3, 2, 2, 3, 3, 3, 3, 3, 1, 3, 1,\n",
              "       1, 3, 1, 3, 1, 2, 2, 3, 2, 2, 3, 3, 1, 3, 3, 3, 2, 2, 1, 2, 1, 2,\n",
              "       3, 1, 2, 2, 3, 1, 1, 1, 2, 2, 2, 3, 2, 2, 1, 2, 1, 1, 1, 1, 1, 1,\n",
              "       0, 3, 3, 1, 1, 2, 3, 2, 1, 1, 3, 2, 3, 2, 2, 2, 3, 2, 2, 3, 3, 3,\n",
              "       3, 2, 1, 3, 1, 0, 3, 3, 3, 1, 2, 3, 2, 2, 1, 1, 2, 3, 1, 3, 3, 2,\n",
              "       1, 1, 2, 1, 1, 2, 1, 3, 2, 2, 2, 2, 2, 2, 3, 1, 3, 1, 1, 1, 3, 3,\n",
              "       2, 3, 0, 1, 3, 2, 1, 0, 2, 1, 2, 3, 2, 1, 1, 1, 1, 1, 2, 2, 2, 3,\n",
              "       0, 2, 2, 3, 1, 1, 1, 2, 1, 2, 3, 1, 1, 1, 3, 3, 2, 2, 2, 3, 2, 2,\n",
              "       2, 3, 1, 2, 2, 2, 1, 2, 3, 3, 1, 2, 1, 2, 2, 3, 2, 3, 3, 1, 1, 2,\n",
              "       2, 1, 3, 3, 3, 1, 3, 2, 3, 2, 3, 1, 2, 2, 2, 3, 2, 2, 2, 1, 3, 3,\n",
              "       1, 0, 3, 2, 2, 2, 1, 2, 1, 2, 2, 2, 1, 2, 2, 3, 3, 1, 2, 3, 2, 3,\n",
              "       1, 3, 1, 1, 2, 1, 2, 2, 2, 2, 3, 2, 2, 2, 2, 2, 3, 1, 2, 1, 1, 3,\n",
              "       2, 1, 2, 1, 2, 1, 2, 1, 1, 1, 2, 3, 3, 1, 3, 1, 2, 3, 1, 2, 3, 3,\n",
              "       1, 2, 3, 3, 2, 2, 1, 2, 1, 3, 1, 2, 3, 1, 2, 1, 1, 3, 3, 1, 3, 1,\n",
              "       1, 3, 3, 2, 1, 1, 3, 0, 2, 2, 1, 2, 2, 1, 2, 1, 2, 0, 1, 1, 1, 3,\n",
              "       3, 2, 1, 3, 3, 2, 1, 1, 3, 2, 2, 2, 2, 2, 3, 0, 2, 1, 1, 1, 3, 2,\n",
              "       2, 2, 1, 3, 3, 2, 2, 2, 1, 2, 1, 1, 3, 3, 2, 1, 1, 2, 1, 2, 1, 3,\n",
              "       1, 2, 1, 2, 1, 1, 0, 2, 1, 2, 2, 1, 3, 3, 3, 3, 2, 3, 1, 2, 3, 2,\n",
              "       1, 2, 1, 2, 0, 2, 2, 2, 1, 1, 3, 1, 1, 3, 2, 2, 1, 3, 2, 1, 3, 2,\n",
              "       3, 3, 3, 1, 1, 2, 2, 3, 3, 1, 2, 2, 3, 2, 1, 0, 0, 2, 1, 2, 2, 2,\n",
              "       0, 2, 2, 2, 1, 2, 3, 3, 1, 2, 1, 1, 1, 3, 2, 1, 3, 2, 3, 1, 3, 3,\n",
              "       3, 1, 1, 3, 1, 1, 3, 1, 3, 3, 2, 1, 1, 1, 2, 3, 3, 2, 3, 1, 3, 1,\n",
              "       2, 1, 1, 3, 2, 2, 3, 1, 3, 1, 2, 2, 1, 2, 1, 1, 2, 2, 1, 3, 3, 1,\n",
              "       3, 2, 2, 3, 1, 1, 3, 2, 1, 1, 1, 2, 0, 2, 2, 2, 2, 1, 1, 2, 1, 2,\n",
              "       2, 2, 3, 3, 1, 2, 1, 3, 2, 2])"
            ]
          },
          "metadata": {
            "tags": []
          },
          "execution_count": 112
        }
      ]
    },
    {
      "cell_type": "code",
      "metadata": {
        "id": "a3teLqS7qF8J",
        "colab_type": "code",
        "colab": {}
      },
      "source": [
        "data_mat=np.array(data)"
      ],
      "execution_count": null,
      "outputs": []
    },
    {
      "cell_type": "code",
      "metadata": {
        "id": "L7QnlPZsrDiK",
        "colab_type": "code",
        "colab": {
          "base_uri": "https://localhost:8080/",
          "height": 295
        },
        "outputId": "ab3b78dc-8cc6-4efc-88ab-574e37bc3802"
      },
      "source": [
        "for i in range(1000):\n",
        "  if y_hc[i]==0:\n",
        "    #print(i)\n",
        "    plt.scatter(data_mat[i][5], data_mat[i][6], s=25, c='magenta', label ='Cluster 1')\n",
        "  elif y_hc[i]==1:\n",
        "    #print(i)\n",
        "    plt.scatter(data_mat[i][5], data_mat[i][6], s=25, c='red', label ='Cluster 2')  \n",
        "  elif y_hc[i]==2:\n",
        "    #print(i)\n",
        "    plt.scatter(data_mat[i][5], data_mat[i][6], s=25, c='green', label ='Cluster 3')  \n",
        "  elif y_hc[i]==3:\n",
        "    #print(i)\n",
        "    plt.scatter(data_mat[i][5], data_mat[i][6], s=25, c='blue', label ='Cluster 4') \n",
        "plt.title('reading score vs math score')\n",
        "plt.xlabel('math score')\n",
        "plt.ylabel('reading score')\n",
        "plt.show()"
      ],
      "execution_count": null,
      "outputs": [
        {
          "output_type": "display_data",
          "data": {
            "image/png": "[encoded data removed]",
            "text/plain": [
              "<Figure size 432x288 with 1 Axes>"
            ]
          },
          "metadata": {
            "tags": [],
            "needs_background": "light"
          }
        }
      ]
    },
    {
      "cell_type": "code",
      "metadata": {
        "id": "GRplSeuluIrF",
        "colab_type": "code",
        "colab": {}
      },
      "source": [
        "from sklearn.cluster import DBSCAN\n",
        "dbscan = DBSCAN(eps=5, metric='euclidean', min_samples=5)"
      ],
      "execution_count": null,
      "outputs": []
    },
    {
      "cell_type": "code",
      "metadata": {
        "id": "iN4qtnUluZBi",
        "colab_type": "code",
        "colab": {
          "base_uri": "https://localhost:8080/",
          "height": 54
        },
        "outputId": "78fd0862-8228-4986-dd16-16623a3a4aa9"
      },
      "source": [
        "dbscan.fit(data)"
      ],
      "execution_count": null,
      "outputs": [
        {
          "output_type": "execute_result",
          "data": {
            "text/plain": [
              "DBSCAN(algorithm='auto', eps=5, leaf_size=30, metric='euclidean',\n",
              "       metric_params=None, min_samples=5, n_jobs=None, p=None)"
            ]
          },
          "metadata": {
            "tags": []
          },
          "execution_count": 322
        }
      ]
    },
    {
      "cell_type": "code",
      "metadata": {
        "id": "OaonXX7WucLZ",
        "colab_type": "code",
        "colab": {
          "base_uri": "https://localhost:8080/",
          "height": 1000
        },
        "outputId": "514ab7b6-9307-4c53-9e95-0385b26b0949"
      },
      "source": [
        "dbscan.labels_"
      ],
      "execution_count": null,
      "outputs": [
        {
          "output_type": "execute_result",
          "data": {
            "text/plain": [
              "array([ 0, -1,  0, -1,  0,  0,  0, -1,  0,  0,  0,  0,  0,  0,  0,  0,  0,\n",
              "       -1,  0,  0,  0,  0,  0,  0,  0,  0,  0,  0,  0,  0,  0,  0,  0, -1,\n",
              "        0,  0,  0,  0,  0,  0,  0,  0,  0,  0,  0,  0,  0,  0,  0,  0,  0,\n",
              "        0, -1,  0,  0, -1,  0,  0,  0, -1,  0, -1,  0,  0,  0,  0, -1,  0,\n",
              "        0,  0,  0,  0,  0,  0,  0, -1, -1,  0,  0,  0,  0,  0,  0,  0, -1,\n",
              "        0,  0,  0,  0,  0,  0, -1,  0,  0,  0,  0,  0,  0,  0,  0,  0,  0,\n",
              "        0, -1,  2,  0,  1,  0, -1,  0,  0,  0,  0,  0,  1,  0,  0,  0,  0,\n",
              "        0,  0,  2,  0,  0,  0, -1,  0,  0,  0,  0,  0, -1,  0,  0,  0,  0,\n",
              "        0,  0,  0,  0,  0,  0,  0, -1,  0, -1,  0,  0,  0, -1,  0,  0,  0,\n",
              "       -1,  0, -1,  0,  0,  0,  0,  0,  0,  0,  0,  0,  1,  0,  0,  0,  0,\n",
              "        0,  0,  0,  0,  0,  0,  0,  0,  0,  1,  0,  0,  0,  0,  0,  0,  0,\n",
              "        0,  0,  0,  0,  0,  0,  0,  0,  0,  0,  0,  0,  0,  0,  0,  0,  0,\n",
              "       -1,  0,  0,  0,  0,  0,  0, -1,  0,  0,  0,  0,  0, -1,  0,  0,  0,\n",
              "        0,  0,  0,  0,  0,  0,  0,  0,  0,  0,  0,  0,  0,  0,  0,  0,  0,\n",
              "        0,  0,  0,  0,  0, -1,  0,  0,  0,  0,  0,  0,  0,  0,  0,  0,  0,\n",
              "        0,  0,  0,  0,  0,  0,  0,  0, -1,  0, -1,  0,  0,  0,  0,  0, -1,\n",
              "        0,  0,  0,  0,  0,  0,  0,  0,  0,  0,  0,  0, -1,  0, -1,  0,  0,\n",
              "        0,  0,  0,  0,  0,  0,  0,  0,  0,  0,  0,  0,  0,  0,  0,  0,  0,\n",
              "       -1,  0,  0,  0,  0,  0,  0,  0,  0,  0,  0,  0,  0,  0,  0,  0,  0,\n",
              "        0,  0,  0,  0, -1,  0,  0,  0, -1,  0, -1,  0,  0,  0,  0, -1, -1,\n",
              "        0,  0,  0,  0,  0,  0,  0,  0,  0,  0,  0,  0,  0,  0,  0,  0,  0,\n",
              "       -1,  0,  0,  0,  0,  0, -1,  0,  0,  0,  0,  0,  0,  0, -1,  0,  0,\n",
              "        0,  0,  0, -1,  0,  0,  0, -1,  0,  0, -1,  0,  0, -1,  0,  0,  0,\n",
              "       -1,  0,  0,  0,  0,  0,  0,  0,  0, -1, -1,  0,  1,  0,  0,  0,  0,\n",
              "        0,  0,  0,  0,  0,  0, -1,  0,  0,  0,  0,  0,  0,  0,  0, -1, -1,\n",
              "        0,  0,  0,  0,  0,  0,  0,  0,  0,  0,  0,  0,  0,  0,  0,  0,  0,\n",
              "        0,  0,  0,  0,  0,  0,  0,  0,  0, -1,  0,  0,  0, -1,  0,  0,  1,\n",
              "        0,  0,  0,  0,  0,  0,  0, -1,  0,  0,  0,  0,  0,  0,  0,  0,  0,\n",
              "        0,  0,  0,  0,  0,  0,  0, -1,  0,  0, -1,  0,  0,  0,  0,  0,  0,\n",
              "        0,  0,  0,  0,  0,  0,  0,  0,  2,  0,  2,  0,  0,  0,  0,  0,  0,\n",
              "        0, -1,  0,  0, -1,  0,  0,  0,  0,  0, -1,  0,  0,  0,  0,  0,  0,\n",
              "        0, -1,  0,  0,  0,  0,  0,  0,  0,  0,  0, -1, -1,  0,  0,  0,  0,\n",
              "        0,  0,  1,  0,  0,  0,  0,  0,  0,  0, -1, -1,  0,  0,  0,  0,  0,\n",
              "        0,  2,  0,  0,  0,  1,  0, -1,  0,  0,  0,  0,  0,  0,  0,  0,  0,\n",
              "        0,  0, -1,  0,  0,  0,  0,  0,  0,  0,  0,  0,  0,  0,  0,  0,  1,\n",
              "       -1, -1,  0,  0,  0,  0, -1,  0,  0,  0, -1,  0,  0,  0,  0,  0,  0,\n",
              "        2,  0,  0,  0, -1,  0,  0,  0, -1,  0,  0, -1,  0,  1,  0, -1, -1,\n",
              "        0,  0,  0,  0,  0,  0,  0,  0,  0,  0,  0,  0,  0,  0,  0,  0,  0,\n",
              "        0,  0,  0,  0,  0,  0, -1,  0,  0,  0,  0,  0,  0,  0,  0,  0,  0,\n",
              "        0,  0,  0,  0,  0,  0,  0,  0,  0,  0,  0,  0,  0,  0,  0,  0,  0,\n",
              "        0,  0,  0, -1,  0,  1,  0,  0, -1,  0,  0,  0,  0,  0,  0,  0,  0,\n",
              "        0,  0,  0,  0,  0,  0,  0,  0,  0, -1,  0,  0,  0,  2,  0,  1,  0,\n",
              "        0,  0,  0,  1,  0,  0,  0,  0,  0,  0,  0,  0,  0, -1,  0, -1,  0,\n",
              "       -1,  0, -1,  0,  0, -1,  0,  0,  0,  0,  0,  0,  0,  0,  0,  0,  0,\n",
              "        0,  0,  0,  0,  0,  0,  0,  0,  0,  0,  0,  0,  0,  0,  0,  0,  0,\n",
              "        0,  0,  0,  0,  0,  0,  0,  0,  0,  0,  0,  0, -1,  0,  0,  0,  0,\n",
              "        0,  0, -1,  0,  0, -1,  0,  0,  0,  0,  0,  0,  0,  0,  0,  0,  0,\n",
              "        0,  0,  0,  0,  0,  0,  0,  0, -1,  0,  0, -1,  0,  0,  0,  0,  0,\n",
              "        0,  0,  0,  0,  0,  0,  0,  0,  0,  0,  0,  0,  0,  0,  0,  0,  0,\n",
              "        0, -1,  0,  0,  0,  0,  0,  0,  0, -1,  0, -1,  0,  0,  0,  0,  0,\n",
              "        0,  0,  0,  0,  0, -1,  0,  0,  0,  0,  0,  0, -1,  0,  2,  0,  0,\n",
              "       -1,  0,  0,  0,  0,  0,  0,  0,  0,  0,  0,  0,  0,  0,  0,  0, -1,\n",
              "        0,  0, -1,  0,  0,  0,  0,  0,  0,  0,  0, -1, -1,  0, -1,  0,  0,\n",
              "        0, -1,  1,  0,  0,  0,  0,  0,  0, -1,  0,  0,  0,  0,  0,  1,  0,\n",
              "        0,  0,  0,  0,  0,  0,  0,  0,  0,  0,  0,  0,  0,  0,  0,  0,  2,\n",
              "        0,  0,  0,  0,  0,  0,  0,  0,  0,  0,  0,  0,  0,  0,  0, -1,  0,\n",
              "        0,  0,  0,  0,  0,  1,  0,  0,  0,  0,  1,  0,  0,  0,  0,  0,  0,\n",
              "        0,  1,  0, -1,  0,  0,  0,  0,  0, -1,  0, -1,  0,  0,  0,  0,  0,\n",
              "        0,  0,  0,  0,  0,  0,  0,  0,  0, -1,  0,  0,  0,  0])"
            ]
          },
          "metadata": {
            "tags": []
          },
          "execution_count": 323
        }
      ]
    },
    {
      "cell_type": "code",
      "metadata": {
        "id": "gjwrXRVJ4jHW",
        "colab_type": "code",
        "colab": {
          "base_uri": "https://localhost:8080/",
          "height": 36
        },
        "outputId": "67bb35d5-3c41-450d-8ed0-36f56755ca77"
      },
      "source": [
        "np.unique(dbscan.labels_)"
      ],
      "execution_count": null,
      "outputs": [
        {
          "output_type": "execute_result",
          "data": {
            "text/plain": [
              "array([-1,  0,  1,  2])"
            ]
          },
          "metadata": {
            "tags": []
          },
          "execution_count": 324
        }
      ]
    },
    {
      "cell_type": "code",
      "metadata": {
        "id": "RQWyXOyUud3z",
        "colab_type": "code",
        "colab": {
          "base_uri": "https://localhost:8080/",
          "height": 148
        },
        "outputId": "14a51d12-32bb-420a-ecee-45aae797405e"
      },
      "source": [
        "import matplotlib.pyplot as pl\n",
        "from sklearn.decomposition import PCA\n",
        "pca = PCA(n_components=2).fit(data)\n",
        "pca_2d = pca.transform(data)\n",
        "pca_2d"
      ],
      "execution_count": null,
      "outputs": [
        {
          "output_type": "execute_result",
          "data": {
            "text/plain": [
              "array([[ -8.5047946 ,   1.16766404],\n",
              "       [-25.47713681, -13.77137088],\n",
              "       [-43.11064901,  -0.43464032],\n",
              "       ...,\n",
              "       [  4.77506407,  -5.19737971],\n",
              "       [-11.50021835,  -5.47555613],\n",
              "       [-26.49795836,  -4.8364673 ]])"
            ]
          },
          "metadata": {
            "tags": []
          },
          "execution_count": 325
        }
      ]
    },
    {
      "cell_type": "code",
      "metadata": {
        "id": "xaDFSV5SvS4b",
        "colab_type": "code",
        "colab": {
          "base_uri": "https://localhost:8080/",
          "height": 284
        },
        "outputId": "4f767c16-30c1-4318-eeaf-585ca4e825a4"
      },
      "source": [
        "for i in range(0, pca_2d.shape[0]):\n",
        "    if dbscan.labels_[i] == 0:\n",
        "        c1 = pl.scatter(pca_2d[i,0],pca_2d[i,1],c='r',marker='+')\n",
        "    elif dbscan.labels_[i] == 1:\n",
        "        c2 = pl.scatter(pca_2d[i,0],pca_2d[i,1],c='g',s=25, marker='o')\n",
        "    elif dbscan.labels_[i] == 2:\n",
        "        c2 = pl.scatter(pca_2d[i,0],pca_2d[i,1],c='g',s=25, marker='o')\n",
        "    elif dbscan.labels_[i] == -1:\n",
        "        c3 = pl.scatter(pca_2d[i,0],pca_2d[i,1],c='b',marker='*')\n",
        "pl.legend([c1, c2, c3], ['Cluster 1', 'Cluster 2','Noise'])\n",
        "    "
      ],
      "execution_count": null,
      "outputs": [
        {
          "output_type": "execute_result",
          "data": {
            "text/plain": [
              "<matplotlib.legend.Legend at 0x7f7856b78898>"
            ]
          },
          "metadata": {
            "tags": []
          },
          "execution_count": 326
        },
        {
          "output_type": "display_data",
          "data": {
            "image/png": "[encoded data removed]",
            "text/plain": [
              "<Figure size 432x288 with 1 Axes>"
            ]
          },
          "metadata": {
            "tags": [],
            "needs_background": "light"
          }
        }
      ]
    },
    {
      "cell_type": "code",
      "metadata": {
        "id": "irxlAw_l13qh",
        "colab_type": "code",
        "colab": {}
      },
      "source": [
        "f=[]\n",
        "m=[]\n",
        "for i in range(1000):\n",
        "  if data['gender'][i]==1:\n",
        "    f.append(data['race/ethnicity'][i])\n",
        "  elif data['gender'][i]==0:\n",
        "    m.append(data['race/ethnicity'][i]) "
      ],
      "execution_count": null,
      "outputs": []
    },
    {
      "cell_type": "code",
      "metadata": {
        "id": "nZy5a9gJ5wlV",
        "colab_type": "code",
        "colab": {}
      },
      "source": [
        "num=[0,0,0,0,0]\n",
        "for i in f:\n",
        "  if i==0:\n",
        "    num[0]+=1\n",
        "  elif i==1:\n",
        "    num[1]+=1\n",
        "  elif i==2:\n",
        "    num[2]+=1\n",
        "  elif i==3:\n",
        "    num[3]+=1\n",
        "  elif i==4:\n",
        "    num[4]+=1\n",
        "\n",
        "num2=[0,0,0,0,0]\n",
        "for i in m:\n",
        "  if i==0:\n",
        "    num2[0]+=1\n",
        "  elif i==1:\n",
        "    num2[1]+=1\n",
        "  elif i==2:\n",
        "    num2[2]+=1\n",
        "  elif i==3:\n",
        "    num2[3]+=1\n",
        "  elif i==4:\n",
        "    num2[4]+=1"
      ],
      "execution_count": null,
      "outputs": []
    },
    {
      "cell_type": "code",
      "metadata": {
        "id": "vH4splSl6JjY",
        "colab_type": "code",
        "colab": {
          "base_uri": "https://localhost:8080/",
          "height": 36
        },
        "outputId": "0966c5a9-5dd8-40e3-b140-f9c6a4ee4b08"
      },
      "source": [
        "num"
      ],
      "execution_count": null,
      "outputs": [
        {
          "output_type": "execute_result",
          "data": {
            "text/plain": [
              "[104, 180, 36, 129, 69]"
            ]
          },
          "metadata": {
            "tags": []
          },
          "execution_count": 334
        }
      ]
    },
    {
      "cell_type": "code",
      "metadata": {
        "id": "zk3Rov6N6h1z",
        "colab_type": "code",
        "colab": {
          "base_uri": "https://localhost:8080/",
          "height": 36
        },
        "outputId": "2dd1347b-cc7a-4a0f-ef9c-06cd92f09857"
      },
      "source": [
        "num2"
      ],
      "execution_count": null,
      "outputs": [
        {
          "output_type": "execute_result",
          "data": {
            "text/plain": [
              "[86, 139, 53, 133, 71]"
            ]
          },
          "metadata": {
            "tags": []
          },
          "execution_count": 335
        }
      ]
    },
    {
      "cell_type": "code",
      "metadata": {
        "id": "1Yh6Lx8D6L7F",
        "colab_type": "code",
        "colab": {}
      },
      "source": [
        "race=[]\n",
        "for i in range(5):\n",
        "  race.append([num[i],num2[i]])"
      ],
      "execution_count": null,
      "outputs": []
    },
    {
      "cell_type": "code",
      "metadata": {
        "id": "y6vVvieb6tFn",
        "colab_type": "code",
        "colab": {}
      },
      "source": [
        "race=np.array(race)"
      ],
      "execution_count": null,
      "outputs": []
    },
    {
      "cell_type": "code",
      "metadata": {
        "id": "ry0_N_OY6ylq",
        "colab_type": "code",
        "colab": {
          "base_uri": "https://localhost:8080/",
          "height": 298
        },
        "outputId": "c4184889-f9d3-49f3-ac80-a922785a94e2"
      },
      "source": [
        "plt.bar((0,1,2,3,4),race[:,0],color='r',align='edge',width=0.3,label='female')\n",
        "plt.bar((0.3,1.3,2.3,3.3,4.3),race[:,1],color='g',align='edge',width=0.3,label='male')\n",
        "plt.legend()\n",
        "plt.xlabel('Race')\n",
        "plt.ylabel('No.of ppl')"
      ],
      "execution_count": null,
      "outputs": [
        {
          "output_type": "execute_result",
          "data": {
            "text/plain": [
              "Text(0, 0.5, 'No.of ppl')"
            ]
          },
          "metadata": {
            "tags": []
          },
          "execution_count": 348
        },
        {
          "output_type": "display_data",
          "data": {
            "image/png": "[encoded data removed]",
            "text/plain": [
              "<Figure size 432x288 with 1 Axes>"
            ]
          },
          "metadata": {
            "tags": [],
            "needs_background": "light"
          }
        }
      ]
    },
    {
      "cell_type": "code",
      "metadata": {
        "id": "DzLToeqg7Gsw",
        "colab_type": "code",
        "colab": {}
      },
      "source": [
        "math_avg=data['math score'].mean()\n",
        "read_avg=data['reading score'].mean()\n",
        "write_avg=data['writing score'].mean()"
      ],
      "execution_count": null,
      "outputs": []
    },
    {
      "cell_type": "code",
      "metadata": {
        "id": "XdJ_4Orb8SYt",
        "colab_type": "code",
        "colab": {}
      },
      "source": [
        "mean=[math_avg,read_avg,write_avg]"
      ],
      "execution_count": null,
      "outputs": []
    },
    {
      "cell_type": "code",
      "metadata": {
        "id": "VSu8Wm3H8j_s",
        "colab_type": "code",
        "colab": {}
      },
      "source": [
        "m=0\n",
        "ttl=[]\n",
        "for j in range(5,8):\n",
        "  m=0\n",
        "  for i in range(1000):\n",
        "    if(data[data.columns[j]][i]>=mean[j-5]):\n",
        "      m+=1\n",
        "  ttl.append(m)"
      ],
      "execution_count": null,
      "outputs": []
    },
    {
      "cell_type": "code",
      "metadata": {
        "id": "wWwKJ8-p87UK",
        "colab_type": "code",
        "colab": {
          "base_uri": "https://localhost:8080/",
          "height": 36
        },
        "outputId": "cee55173-56c6-4f9f-cef1-9d409f3aab2a"
      },
      "source": [
        "ttl"
      ],
      "execution_count": null,
      "outputs": [
        {
          "output_type": "execute_result",
          "data": {
            "text/plain": [
              "[493, 513, 512]"
            ]
          },
          "metadata": {
            "tags": []
          },
          "execution_count": 356
        }
      ]
    },
    {
      "cell_type": "code",
      "metadata": {
        "id": "a77q9L0d88IQ",
        "colab_type": "code",
        "colab": {
          "base_uri": "https://localhost:8080/",
          "height": 300
        },
        "outputId": "6bbc9a16-989e-46e6-e968-8d9af54af5c0"
      },
      "source": [
        "plt.bar([0.9,1,1.1],ttl,width=0.1,tick_label=['math','read','write'],color=['r','g','b'])\n",
        "plt.title('No,of students above the mean score')\n"
      ],
      "execution_count": null,
      "outputs": [
        {
          "output_type": "execute_result",
          "data": {
            "text/plain": [
              "Text(0.5, 1.0, 'No,of students above the mean score')"
            ]
          },
          "metadata": {
            "tags": []
          },
          "execution_count": 359
        },
        {
          "output_type": "display_data",
          "data": {
            "image/png": "[encoded data removed]",
            "text/plain": [
              "<Figure size 432x288 with 1 Axes>"
            ]
          },
          "metadata": {
            "tags": [],
            "needs_background": "light"
          }
        }
      ]
    },
    {
      "cell_type": "code",
      "metadata": {
        "id": "AgoZSYw19jWh",
        "colab_type": "code",
        "colab": {}
      },
      "source": [
        "m=[]\n",
        "f=[]\n",
        "for i in range(1000):\n",
        "  if(data['gender'][i]==1):\n",
        "    f.append(i)\n",
        "  elif(data['gender'][i]==0):\n",
        "    m.append(i)"
      ],
      "execution_count": null,
      "outputs": []
    },
    {
      "cell_type": "code",
      "metadata": {
        "id": "47P6gqk4-HBo",
        "colab_type": "code",
        "colab": {}
      },
      "source": [
        "count=[0,0,0,0,0]\n",
        "for i in m:\n",
        "  if data['race/ethnicity'][i]==0:\n",
        "    count[0]+=1\n",
        "  if data['race/ethnicity'][i]==1:\n",
        "    count[1]+=1\n",
        "  if data['race/ethnicity'][i]==2:\n",
        "    count[2]+=1\n",
        "  if data['race/ethnicity'][i]==3:\n",
        "    count[3]+=1\n",
        "  if data['race/ethnicity'][i]==4:\n",
        "    count[4]+=1"
      ],
      "execution_count": null,
      "outputs": []
    },
    {
      "cell_type": "code",
      "metadata": {
        "id": "UpvhGMyO-kUI",
        "colab_type": "code",
        "colab": {
          "base_uri": "https://localhost:8080/",
          "height": 36
        },
        "outputId": "dd07e1e9-c556-4895-b6e9-2371c5ad412d"
      },
      "source": [
        "count"
      ],
      "execution_count": null,
      "outputs": [
        {
          "output_type": "execute_result",
          "data": {
            "text/plain": [
              "[86, 139, 53, 133, 71]"
            ]
          },
          "metadata": {
            "tags": []
          },
          "execution_count": 364
        }
      ]
    },
    {
      "cell_type": "code",
      "metadata": {
        "id": "gfcsl50S-nsx",
        "colab_type": "code",
        "colab": {}
      },
      "source": [
        "count2=[0,0,0,0,0]\n",
        "for i in f:\n",
        "  if data['race/ethnicity'][i]==0:\n",
        "    count2[0]+=1\n",
        "  if data['race/ethnicity'][i]==1:\n",
        "    count2[1]+=1\n",
        "  if data['race/ethnicity'][i]==2:\n",
        "    count2[2]+=1\n",
        "  if data['race/ethnicity'][i]==3:\n",
        "    count2[3]+=1\n",
        "  if data['race/ethnicity'][i]==4:\n",
        "    count2[4]+=1"
      ],
      "execution_count": null,
      "outputs": []
    },
    {
      "cell_type": "code",
      "metadata": {
        "id": "BXibiUie-wmk",
        "colab_type": "code",
        "colab": {
          "base_uri": "https://localhost:8080/",
          "height": 36
        },
        "outputId": "f7d9ff4d-2a7d-44f9-8f6f-01e092689d41"
      },
      "source": [
        "count2"
      ],
      "execution_count": null,
      "outputs": [
        {
          "output_type": "execute_result",
          "data": {
            "text/plain": [
              "[104, 180, 36, 129, 69]"
            ]
          },
          "metadata": {
            "tags": []
          },
          "execution_count": 366
        }
      ]
    },
    {
      "cell_type": "code",
      "metadata": {
        "id": "973Hwpwk-yC3",
        "colab_type": "code",
        "colab": {}
      },
      "source": [
        "all=count+count2"
      ],
      "execution_count": null,
      "outputs": []
    },
    {
      "cell_type": "code",
      "metadata": {
        "id": "5o_PqyRO-3YY",
        "colab_type": "code",
        "colab": {
          "base_uri": "https://localhost:8080/",
          "height": 36
        },
        "outputId": "9ed356fe-db19-4f8d-d75c-a4e11ed66176"
      },
      "source": [
        "all"
      ],
      "execution_count": null,
      "outputs": [
        {
          "output_type": "execute_result",
          "data": {
            "text/plain": [
              "[86, 139, 53, 133, 71, 104, 180, 36, 129, 69]"
            ]
          },
          "metadata": {
            "tags": []
          },
          "execution_count": 368
        }
      ]
    },
    {
      "cell_type": "code",
      "metadata": {
        "id": "Ulr2k1KU-4ov",
        "colab_type": "code",
        "colab": {
          "base_uri": "https://localhost:8080/",
          "height": 300
        },
        "outputId": "7b546099-288f-4c44-e9e0-faaca1db8446"
      },
      "source": [
        "plt.bar([0,1,2,3,4,8,9,10,11,12],all,tick_label=['','','male','','','','','female','',''],color=['r','g','k','y','b','r','g','k','y','b'])\n",
        "s=['group B','grooup C','group A','group D','group E','group B','grooup C','group A','group D','group E']\n",
        "d=all\n",
        "n=np.array([0,1,2,3,4,8,9,10,11,12])-np.ones(10)\n",
        "for i in range(len(s)):\n",
        "  plt.annotate(str(s[i]),xy=(n[i],d[i]))\n",
        "plt.title('race (for each gender)')\n"
      ],
      "execution_count": null,
      "outputs": [
        {
          "output_type": "execute_result",
          "data": {
            "text/plain": [
              "Text(0.5, 1.0, 'race (for each gender)')"
            ]
          },
          "metadata": {
            "tags": []
          },
          "execution_count": 377
        },
        {
          "output_type": "display_data",
          "data": {
            "image/png": "[encoded data removed]",
            "text/plain": [
              "<Figure size 432x288 with 1 Axes>"
            ]
          },
          "metadata": {
            "tags": [],
            "needs_background": "light"
          }
        }
      ]
    },
    {
      "cell_type": "code",
      "metadata": {
        "id": "Yf5yAYpY_7Ci",
        "colab_type": "code",
        "colab": {}
      },
      "source": [
        ""
      ],
      "execution_count": null,
      "outputs": []
    }
  ]
}